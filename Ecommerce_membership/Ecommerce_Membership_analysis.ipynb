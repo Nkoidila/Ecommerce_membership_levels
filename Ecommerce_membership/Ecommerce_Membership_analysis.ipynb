{
 "cells": [
  {
   "cell_type": "code",
   "execution_count": 2,
   "metadata": {},
   "outputs": [
    {
     "data": {
      "text/html": [
       "<div>\n",
       "<style scoped>\n",
       "    .dataframe tbody tr th:only-of-type {\n",
       "        vertical-align: middle;\n",
       "    }\n",
       "\n",
       "    .dataframe tbody tr th {\n",
       "        vertical-align: top;\n",
       "    }\n",
       "\n",
       "    .dataframe thead th {\n",
       "        text-align: right;\n",
       "    }\n",
       "</style>\n",
       "<table border=\"1\" class=\"dataframe\">\n",
       "  <thead>\n",
       "    <tr style=\"text-align: right;\">\n",
       "      <th></th>\n",
       "      <th>Customer ID</th>\n",
       "      <th>Gender</th>\n",
       "      <th>Age</th>\n",
       "      <th>City</th>\n",
       "      <th>Membership Type</th>\n",
       "      <th>Total Spend</th>\n",
       "      <th>Items Purchased</th>\n",
       "      <th>Average Rating</th>\n",
       "      <th>Discount Applied</th>\n",
       "      <th>Days Since Last Purchase</th>\n",
       "      <th>Satisfaction Level</th>\n",
       "    </tr>\n",
       "  </thead>\n",
       "  <tbody>\n",
       "    <tr>\n",
       "      <th>0</th>\n",
       "      <td>101</td>\n",
       "      <td>Female</td>\n",
       "      <td>29</td>\n",
       "      <td>New York</td>\n",
       "      <td>Gold</td>\n",
       "      <td>1120.20</td>\n",
       "      <td>14</td>\n",
       "      <td>4.6</td>\n",
       "      <td>TRUE</td>\n",
       "      <td>25</td>\n",
       "      <td>Satisfied</td>\n",
       "    </tr>\n",
       "    <tr>\n",
       "      <th>1</th>\n",
       "      <td>102</td>\n",
       "      <td>Male</td>\n",
       "      <td>34</td>\n",
       "      <td>Los Angeles</td>\n",
       "      <td>Silver</td>\n",
       "      <td>780.50</td>\n",
       "      <td>11</td>\n",
       "      <td>4.1</td>\n",
       "      <td>FALSE</td>\n",
       "      <td>18</td>\n",
       "      <td>Neutral</td>\n",
       "    </tr>\n",
       "    <tr>\n",
       "      <th>2</th>\n",
       "      <td>103</td>\n",
       "      <td>Female</td>\n",
       "      <td>43</td>\n",
       "      <td>Chicago</td>\n",
       "      <td>Bronze</td>\n",
       "      <td>510.75</td>\n",
       "      <td>9</td>\n",
       "      <td>3.4</td>\n",
       "      <td>TRUE</td>\n",
       "      <td>42</td>\n",
       "      <td>Unsatisfied</td>\n",
       "    </tr>\n",
       "    <tr>\n",
       "      <th>3</th>\n",
       "      <td>104</td>\n",
       "      <td>Male</td>\n",
       "      <td>30</td>\n",
       "      <td>San Francisco</td>\n",
       "      <td>Gold</td>\n",
       "      <td>1480.30</td>\n",
       "      <td>19</td>\n",
       "      <td>4.7</td>\n",
       "      <td>FALSE</td>\n",
       "      <td>12</td>\n",
       "      <td>Satisfied</td>\n",
       "    </tr>\n",
       "    <tr>\n",
       "      <th>4</th>\n",
       "      <td>105</td>\n",
       "      <td>Male</td>\n",
       "      <td>27</td>\n",
       "      <td>Miami</td>\n",
       "      <td>Silver</td>\n",
       "      <td>720.40</td>\n",
       "      <td>13</td>\n",
       "      <td>4.0</td>\n",
       "      <td>TRUE</td>\n",
       "      <td>55</td>\n",
       "      <td>Unsatisfied</td>\n",
       "    </tr>\n",
       "  </tbody>\n",
       "</table>\n",
       "</div>"
      ],
      "text/plain": [
       "   Customer ID   Gender   Age   City            Membership Type   \\\n",
       "0           101  Female     29  New York        Gold               \n",
       "1           102  Male       34  Los Angeles     Silver             \n",
       "2           103  Female     43  Chicago         Bronze             \n",
       "3           104  Male       30  San Francisco   Gold               \n",
       "4           105  Male       27  Miami           Silver             \n",
       "\n",
       "   Total Spend   Items Purchased   Average Rating   Discount Applied   \\\n",
       "0       1120.20                14              4.6  TRUE                \n",
       "1        780.50                11              4.1  FALSE               \n",
       "2        510.75                 9              3.4  TRUE                \n",
       "3       1480.30                19              4.7  FALSE               \n",
       "4        720.40                13              4.0  TRUE                \n",
       "\n",
       "   Days Since Last Purchase  Satisfaction Level  \n",
       "0                         25          Satisfied  \n",
       "1                         18            Neutral  \n",
       "2                         42        Unsatisfied  \n",
       "3                         12          Satisfied  \n",
       "4                         55        Unsatisfied  "
      ]
     },
     "execution_count": 2,
     "metadata": {},
     "output_type": "execute_result"
    }
   ],
   "source": [
    "import numpy as np\n",
    "import pandas as pd\n",
    "\n",
    "#reading and loading the Ecommerce dataset\n",
    "dataset=pd.read_csv(r'C:\\Users\\ADMIN\\Desktop\\Datasets\\E-commerce Customer Behavior - Sheet1.csv')\n",
    "dataset.head()\n",
    "\n"
   ]
  },
  {
   "cell_type": "code",
   "execution_count": 3,
   "metadata": {},
   "outputs": [
    {
     "data": {
      "text/plain": [
       "Customer ID                  0\n",
       "Gender                       0\n",
       "Age                          0\n",
       "City                         0\n",
       "Membership Type              0\n",
       "Total Spend                  0\n",
       "Items Purchased              0\n",
       "Average Rating               0\n",
       "Discount Applied             0\n",
       "Days Since Last Purchase     0\n",
       "Satisfaction Level           0\n",
       "dtype: int64"
      ]
     },
     "execution_count": 3,
     "metadata": {},
     "output_type": "execute_result"
    }
   ],
   "source": [
    "#checking for missing values\n",
    "\n",
    "missing_values=dataset.isnull().sum()\n",
    "missing_values\n",
    "\n",
    "#removing rows with missing values\n",
    "#dataset=dataset.dropna(subset=['Satisfaction Level'])\n",
    "\n",
    "#missing_values1=dataset.isnull().sum()\n",
    "#missing_values1\n",
    "\n",
    "#imputating the missing values with the mode\n",
    "dataset['Satisfaction Level'].fillna(dataset['Satisfaction Level'].mode()[0],inplace=True)\n",
    "missing_values2=dataset.isnull().sum()\n",
    "missing_values2"
   ]
  },
  {
   "cell_type": "code",
   "execution_count": 4,
   "metadata": {},
   "outputs": [
    {
     "name": "stdout",
     "output_type": "stream",
     "text": [
      "null hypothesis is rejected therefore there is a significant difference in the mean spending of the membership types\n"
     ]
    }
   ],
   "source": [
    "#Using one way ANOVA to investigate spending between the membership types(gold,silver and bronze)\n",
    "#Null hypothesis:there is no diff in the mean of the spending of the three membership types\n",
    "#alternative hypothesis:there is significant difference in the spending of the three membership types\n",
    "\n",
    "from scipy.stats import f_oneway\n",
    "\n",
    "#removing whitespaces in the Membership type column\n",
    "dataset['Membership Type ']=dataset['Membership Type '].str.strip()\n",
    "\n",
    "#filtering the columns of membership types with the total spend column\n",
    "gold_type = dataset[dataset['Membership Type '] == 'Gold']['Total Spend ']\n",
    "silver_type = dataset[dataset['Membership Type '] == 'Silver']['Total Spend ']\n",
    "bronze_type = dataset[dataset['Membership Type '] == 'Bronze']['Total Spend ']\n",
    " \n",
    " #using one way ANOVA test to verify our hypothesis\n",
    "anova_statistic,anova_p_value=f_oneway(gold_type,silver_type,bronze_type)\n",
    "alpha=0.05\n",
    "if anova_p_value>alpha:\n",
    "    print(\"null hypothesis fails to be rejected thus there is no difference between the means of the membership type spending\")\n",
    "else:\n",
    "    print(\"null hypothesis is rejected therefore there is a significant difference in the mean spending of the membership types\")\n",
    "\n",
    "\n"
   ]
  },
  {
   "cell_type": "markdown",
   "metadata": {},
   "source": [
    "Checking the mean spending of the three different membership types while also testing for the standard deviation to recommend if a new (platinum) membership type should be included by the company."
   ]
  },
  {
   "cell_type": "code",
   "execution_count": 17,
   "metadata": {},
   "outputs": [
    {
     "name": "stdout",
     "output_type": "stream",
     "text": [
      "For the gold membership the mean spending is found to be at $1311.14, with a standard deviation of $151.28 from it the variance is 22885.43\n",
      "For the silver membership the mean spending is found to be at $748.43, with a standard deviation of $60.33 from it the variance is 3640.28\n",
      "For the bronze membership the mean spending is found to be at $473.39, with a standard deviation of $31.16 from it the variance is 971.21\n"
     ]
    }
   ],
   "source": [
    "#checking the mean and variance of the membership types\n",
    "gold_mean=np.mean(gold_type)\n",
    "gold_std=np.std(gold_type)\n",
    "gold_var=np.var(gold_type)\n",
    "\n",
    "print('For the gold membership the mean spending is found to be at ${:.2f}, with a standard deviation of ${:.2f} from it the variance is {:.2f}'.format(gold_mean,gold_std,gold_var))\n",
    "\n",
    "silver_mean=np.mean(silver_type)\n",
    "silver_std=np.std(silver_type)\n",
    "silver_var=np.var(silver_type)\n",
    "\n",
    "print('For the silver membership the mean spending is found to be at ${:.2f}, with a standard deviation of ${:.2f} from it the variance is {:.2f}'.format(silver_mean,silver_std,silver_var))\n",
    "\n",
    "bronze_mean=np.mean(bronze_type)\n",
    "bronze_std=np.std(bronze_type)\n",
    "bronze_var=np.var(bronze_type)\n",
    "print('For the bronze membership the mean spending is found to be at ${:.2f}, with a standard deviation of ${:.2f} from it the variance is {:.2f}'.format(bronze_mean,bronze_std,bronze_var))\n"
   ]
  },
  {
   "cell_type": "markdown",
   "metadata": {},
   "source": [
    "Visually representing my findings using a box plot"
   ]
  },
  {
   "cell_type": "code",
   "execution_count": 18,
   "metadata": {},
   "outputs": [
    {
     "data": {
      "image/png": "[encoded data removed]",
      "text/plain": [
       "<Figure size 1000x600 with 1 Axes>"
      ]
     },
     "metadata": {},
     "output_type": "display_data"
    }
   ],
   "source": [
    "import matplotlib.pyplot as plt\n",
    "import seaborn as sns\n",
    "\n",
    "\n",
    "# Creating a dictionary to hold the spending data for each membership type\n",
    "mem_types = {'Gold': gold_type, 'Silver': silver_type, 'Bronze': bronze_type}\n",
    "\n",
    "# Create a box plot\n",
    "plt.figure(figsize=(10, 6))\n",
    "sns.boxplot(data=list(mem_types.values()), palette='Set3')\n",
    "plt.title('Spending Distribution by Membership Type')\n",
    "plt.xlabel('Membership Type')\n",
    "plt.ylabel('Spending ($)')\n",
    "plt.xticks(range(len(mem_types)), list(mem_types.keys()))\n",
    "\n",
    "# Show plot\n",
    "plt.grid(True)\n",
    "plt.show()\n"
   ]
  },
  {
   "cell_type": "markdown",
   "metadata": {},
   "source": [
    "From the findings above seeing as though the Gold membership has a relatively higher variance than the other membership types suggesting for a platinum membership would be a bit premature as further tests and analyses need to be done, recommend:\n",
    "1.Collecting customer feedback and preferences through surveys or focus groups to understand their attitudes towards the existing membership program and their willingness to enroll in a new platinum membership tier. \n",
    "2.Build predictive models to forecast spending behavior for potential platinum members based on historical data and membership characteristics."
   ]
  }
 ],
 "metadata": {
  "kernelspec": {
   "display_name": "base",
   "language": "python",
   "name": "python3"
  },
  "language_info": {
   "codemirror_mode": {
    "name": "ipython",
    "version": 3
   },
   "file_extension": ".py",
   "mimetype": "text/x-python",
   "name": "python",
   "nbconvert_exporter": "python",
   "pygments_lexer": "ipython3",
   "version": "3.9.13"
  }
 },
 "nbformat": 4,
 "nbformat_minor": 2
}
